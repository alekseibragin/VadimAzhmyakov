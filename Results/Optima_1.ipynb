{
  "cells": [
    {
      "cell_type": "code",
      "source": [
        "!pip install control"
      ],
      "metadata": {
        "colab": {
          "base_uri": "https://localhost:8080/"
        },
        "id": "AJIi0vIIGZON",
        "outputId": "8a012457-34bb-4445-adb6-01521d141e85"
      },
      "id": "AJIi0vIIGZON",
      "execution_count": 2,
      "outputs": [
        {
          "output_type": "stream",
          "name": "stdout",
          "text": [
            "Collecting control\n",
            "  Downloading control-0.9.0.tar.gz (339 kB)\n",
            "\u001b[?25l\r\u001b[K     |█                               | 10 kB 21.3 MB/s eta 0:00:01\r\u001b[K     |██                              | 20 kB 29.9 MB/s eta 0:00:01\r\u001b[K     |███                             | 30 kB 32.8 MB/s eta 0:00:01\r\u001b[K     |███▉                            | 40 kB 21.3 MB/s eta 0:00:01\r\u001b[K     |████▉                           | 51 kB 13.4 MB/s eta 0:00:01\r\u001b[K     |█████▉                          | 61 kB 15.0 MB/s eta 0:00:01\r\u001b[K     |██████▊                         | 71 kB 12.9 MB/s eta 0:00:01\r\u001b[K     |███████▊                        | 81 kB 13.8 MB/s eta 0:00:01\r\u001b[K     |████████▊                       | 92 kB 15.2 MB/s eta 0:00:01\r\u001b[K     |█████████▋                      | 102 kB 12.6 MB/s eta 0:00:01\r\u001b[K     |██████████▋                     | 112 kB 12.6 MB/s eta 0:00:01\r\u001b[K     |███████████▋                    | 122 kB 12.6 MB/s eta 0:00:01\r\u001b[K     |████████████▋                   | 133 kB 12.6 MB/s eta 0:00:01\r\u001b[K     |█████████████▌                  | 143 kB 12.6 MB/s eta 0:00:01\r\u001b[K     |██████████████▌                 | 153 kB 12.6 MB/s eta 0:00:01\r\u001b[K     |███████████████▌                | 163 kB 12.6 MB/s eta 0:00:01\r\u001b[K     |████████████████▍               | 174 kB 12.6 MB/s eta 0:00:01\r\u001b[K     |█████████████████▍              | 184 kB 12.6 MB/s eta 0:00:01\r\u001b[K     |██████████████████▍             | 194 kB 12.6 MB/s eta 0:00:01\r\u001b[K     |███████████████████▎            | 204 kB 12.6 MB/s eta 0:00:01\r\u001b[K     |████████████████████▎           | 215 kB 12.6 MB/s eta 0:00:01\r\u001b[K     |█████████████████████▎          | 225 kB 12.6 MB/s eta 0:00:01\r\u001b[K     |██████████████████████▎         | 235 kB 12.6 MB/s eta 0:00:01\r\u001b[K     |███████████████████████▏        | 245 kB 12.6 MB/s eta 0:00:01\r\u001b[K     |████████████████████████▏       | 256 kB 12.6 MB/s eta 0:00:01\r\u001b[K     |█████████████████████████▏      | 266 kB 12.6 MB/s eta 0:00:01\r\u001b[K     |██████████████████████████      | 276 kB 12.6 MB/s eta 0:00:01\r\u001b[K     |███████████████████████████     | 286 kB 12.6 MB/s eta 0:00:01\r\u001b[K     |████████████████████████████    | 296 kB 12.6 MB/s eta 0:00:01\r\u001b[K     |█████████████████████████████   | 307 kB 12.6 MB/s eta 0:00:01\r\u001b[K     |██████████████████████████████  | 317 kB 12.6 MB/s eta 0:00:01\r\u001b[K     |███████████████████████████████ | 327 kB 12.6 MB/s eta 0:00:01\r\u001b[K     |███████████████████████████████▉| 337 kB 12.6 MB/s eta 0:00:01\r\u001b[K     |████████████████████████████████| 339 kB 12.6 MB/s \n",
            "\u001b[?25hRequirement already satisfied: numpy in /usr/local/lib/python3.7/dist-packages (from control) (1.19.5)\n",
            "Requirement already satisfied: scipy in /usr/local/lib/python3.7/dist-packages (from control) (1.4.1)\n",
            "Requirement already satisfied: matplotlib in /usr/local/lib/python3.7/dist-packages (from control) (3.2.2)\n",
            "Requirement already satisfied: cycler>=0.10 in /usr/local/lib/python3.7/dist-packages (from matplotlib->control) (0.11.0)\n",
            "Requirement already satisfied: pyparsing!=2.0.4,!=2.1.2,!=2.1.6,>=2.0.1 in /usr/local/lib/python3.7/dist-packages (from matplotlib->control) (3.0.6)\n",
            "Requirement already satisfied: kiwisolver>=1.0.1 in /usr/local/lib/python3.7/dist-packages (from matplotlib->control) (1.3.2)\n",
            "Requirement already satisfied: python-dateutil>=2.1 in /usr/local/lib/python3.7/dist-packages (from matplotlib->control) (2.8.2)\n",
            "Requirement already satisfied: six>=1.5 in /usr/local/lib/python3.7/dist-packages (from python-dateutil>=2.1->matplotlib->control) (1.15.0)\n",
            "Building wheels for collected packages: control\n",
            "  Building wheel for control (setup.py) ... \u001b[?25l\u001b[?25hdone\n",
            "  Created wheel for control: filename=control-0.9.0-py2.py3-none-any.whl size=344928 sha256=36efcd063fce71bac3607382023e02b9ec51e5a21ad89e06450de97f8a032165\n",
            "  Stored in directory: /root/.cache/pip/wheels/5b/64/54/70faad181d7baff1184541ca00c9a2efa633acd0a811831d30\n",
            "Successfully built control\n",
            "Installing collected packages: control\n",
            "Successfully installed control-0.9.0\n"
          ]
        }
      ]
    },
    {
      "cell_type": "code",
      "execution_count": 4,
      "id": "81dbbf35",
      "metadata": {
        "colab": {
          "base_uri": "https://localhost:8080/",
          "height": 390
        },
        "id": "81dbbf35",
        "outputId": "0e950a65-e7f3-430a-fed6-8f724adf486a"
      },
      "outputs": [
        {
          "output_type": "stream",
          "name": "stdout",
          "text": [
            "Summary statistics:\n",
            "* Cost function calls: 1092\n",
            "* System simulations: 1092\n",
            "[ 0.          1.11111111  2.22222222  3.33333333  4.44444444  5.55555556\n",
            "  6.66666667  7.77777778  8.88888889 10.        ]\n"
          ]
        },
        {
          "output_type": "display_data",
          "data": {
            "image/png": "[encoded data removed]",
            "text/plain": [
              "<Figure size 432x288 with 3 Axes>"
            ]
          },
          "metadata": {
            "needs_background": "light"
          }
        }
      ],
      "source": [
        "# -*- coding: utf-8 -*-\n",
        "\"\"\"\n",
        "Created on Mon Dec  6 12:54:40 2021\n",
        "\n",
        "@author: Vadim\n",
        "\"\"\"\n",
        "\n",
        "# optimal_bench.py - benchmarks for optimal control package\n",
        "# RMM, 27 Feb 2020\n",
        "#\n",
        "# This benchmark tests the timing for the optimal control module\n",
        "# (control.optimal) and is intended to be used for helping tune the\n",
        "# performance of the functions used for optimization-base control.\n",
        "import numpy as np\n",
        "import math\n",
        "import control as ct\n",
        "import control.flatsys as flat\n",
        "import control.optimal as opt\n",
        "import matplotlib.pyplot as plt\n",
        "import logging\n",
        "import time\n",
        "import os\n",
        "\n",
        "#\n",
        "# Vehicle steering dynamics\n",
        "#\n",
        "# The vehicle dynamics are given by a simple bicycle model.  We take the state\n",
        "# of the system as (x, y, theta) where (x, y) is the position of the vehicle\n",
        "# in the plane and theta is the angle of the vehicle with respect to\n",
        "# horizontal.  The vehicle input is given by (v, phi) where v is the forward\n",
        "# velocity of the vehicle and phi is the angle of the steering wheel.  The\n",
        "# model includes saturation of the vehicle steering angle.\n",
        "#\n",
        "# System state: x, y, theta\n",
        "# System input: v, phi\n",
        "# System output: x, y\n",
        "# System parameters: wheelbase, maxsteer\n",
        "#\n",
        "def vehicle_update(t, x, u, params):\n",
        "    # Get the parameters for the model\n",
        "    l = params.get('wheelbase', 3.)         # vehicle wheelbase\n",
        "    phimax = params.get('maxsteer', 0.5)    # max steering angle (rad)\n",
        "    # Saturate the steering input (use min/max instead of clip for speed)\n",
        "    phi = max(-phimax, min(u[1], phimax))\n",
        "    # Return the derivative of the state\n",
        "    return np.array([\n",
        "        math.cos(x[2]) * u[0],            # xdot = cos(theta) v\n",
        "        math.sin(x[2]) * u[0],            # ydot = sin(theta) v\n",
        "        (u[0] / l) * math.tan(phi)        # thdot = v/l tan(phi)\n",
        "    ])\n",
        "\n",
        "\n",
        "def vehicle_output(t, x, u, params):\n",
        "    return x                            # return x, y, theta (full state)\n",
        "\n",
        "vehicle = ct.NonlinearIOSystem(\n",
        "    vehicle_update, vehicle_output, states=3, name='vehicle',\n",
        "    inputs=('v', 'phi'), outputs=('x', 'y', 'theta'))\n",
        "\n",
        "# Initial and final conditions\n",
        "x0 = [0., -2., 0.]; u0 = [10., 0.]\n",
        "xf = [120., 1.1, 0.]; uf = [10., 0.]\n",
        "Tf = 10\n",
        "# Define the time horizon (and spacing) for the optimization\n",
        "horizon = np.linspace(0, Tf, 10, endpoint=True)\n",
        "# Provide an intial guess (will be extended to entire horizon)\n",
        "bend_left = [10, 0.01]          # slight left veer\n",
        "\n",
        "# Set up the cost functions\n",
        "Q = np.diag([5, 10, 1])     # keep lateral error low\n",
        "R = np.diag([.1, 1])          # minimize applied inputs\n",
        "quad_cost = opt.quadratic_cost(vehicle, Q, R, x0=xf, u0=uf)\n",
        "#        \n",
        "res = opt.solve_ocp(\n",
        "        vehicle, horizon, x0, quad_cost,\n",
        "        initial_guess=bend_left, print_summary=False,\n",
        "        # solve_ivp_kwargs={'atol': 1e-2, 'rtol': 1e-2},\n",
        "        minimize_method='trust-constr',\n",
        "        minimize_options={'finite_diff_rel_step': 0.01},\n",
        "    )\n",
        "#       \n",
        "u = res.inputs\n",
        "t, y = ct.input_output_response(vehicle, horizon, u, x0) \n",
        "#y = res.states\n",
        "#t = res.time\n",
        "\n",
        "print(t)\n",
        "\n",
        "# Plot the results\n",
        "plt.subplot(3, 1, 1)\n",
        "plt.plot(y[0], y[1])\n",
        "plt.plot(x0[0], x0[1], 'ro', xf[0], xf[1], 'ro')\n",
        "plt.xlabel(\"x [m]\")\n",
        "plt.ylabel(\"y [m]\")\n",
        "\n",
        "plt.subplot(3, 1, 2)\n",
        "plt.plot(t, u[0])\n",
        "plt.axis([0, 10, 5.5, 22.5])\n",
        "plt.plot([0, 10], [9, 9], 'k--', [0, 10], [11, 11], 'k--')\n",
        "plt.xlabel(\"t [sec]\")\n",
        "plt.ylabel(\"u1 [m/s]\")\n",
        "\n",
        "plt.subplot(3, 1, 3)\n",
        "plt.plot(t, u[1])\n",
        "plt.axis([0, 10, -0.35, 0.35])\n",
        "plt.plot([0, 10], [-0.1, -0.1], 'k--', [0, 10], [0.1, 0.1], 'k--')\n",
        "plt.xlabel(\"t [sec]\")\n",
        "plt.ylabel(\"u2 [rad/s]\")\n",
        "\n",
        "plt.suptitle(\"Lane change manuever\")\n",
        "plt.tight_layout()\n",
        "plt.show()"
      ]
    },
    {
      "cell_type": "code",
      "execution_count": null,
      "id": "f4cbf5dc",
      "metadata": {
        "id": "f4cbf5dc"
      },
      "outputs": [],
      "source": [
        ""
      ]
    }
  ],
  "metadata": {
    "kernelspec": {
      "display_name": "Python 3",
      "language": "python",
      "name": "python3"
    },
    "language_info": {
      "codemirror_mode": {
        "name": "ipython",
        "version": 3
      },
      "file_extension": ".py",
      "mimetype": "text/x-python",
      "name": "python",
      "nbconvert_exporter": "python",
      "pygments_lexer": "ipython3",
      "version": "3.8.8"
    },
    "colab": {
      "name": "Optima_1.ipynb",
      "provenance": []
    }
  },
  "nbformat": 4,
  "nbformat_minor": 5
}